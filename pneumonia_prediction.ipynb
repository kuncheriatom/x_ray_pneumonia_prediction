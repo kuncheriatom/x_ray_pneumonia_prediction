{
 "cells": [
  {
   "cell_type": "code",
   "execution_count": 6,
   "metadata": {},
   "outputs": [
    {
     "name": "stdout",
     "output_type": "stream",
     "text": [
      "\u001b[1m1/1\u001b[0m \u001b[32m━━━━━━━━━━━━━━━━━━━━\u001b[0m\u001b[37m\u001b[0m \u001b[1m0s\u001b[0m 274ms/step\n",
      "Prediction: Pneumonia\n"
     ]
    }
   ],
   "source": [
    "import tensorflow as tf\n",
    "from tensorflow.keras.preprocessing import image\n",
    "import numpy as np\n",
    "\n",
    "# Function to preprocess the image\n",
    "def preprocess_image(img_path, img_height, img_width):\n",
    "    # Load the image in grayscale mode\n",
    "    img = image.load_img(img_path, target_size=(img_height, img_width), color_mode='grayscale')\n",
    "    # Convert the image to a numpy array\n",
    "    img_array = image.img_to_array(img)\n",
    "    # Expand dimensions to match the model's input shape\n",
    "    img_array = np.expand_dims(img_array, axis=0)\n",
    "    # Normalize the image (if required by your model)\n",
    "    img_array = img_array / 255.0  \n",
    "    return img_array\n",
    "\n",
    "# Path to the unseen image\n",
    "img_path = r'chest_xray\\test\\PNEUMONIA\\person1_virus_6.jpeg'\n",
    "\n",
    "# Preprocess the image\n",
    "img_height, img_width = 224, 224  # Use the same dimensions as used during training\n",
    "preprocessed_img = preprocess_image(img_path, img_height, img_width)\n",
    "\n",
    "# Load the best model saved in .keras format\n",
    "best_model = tf.keras.models.load_model('best_model_.keras')\n",
    "\n",
    "# Make predictions\n",
    "prediction = best_model.predict(preprocessed_img)\n",
    "\n",
    "# Output the prediction\n",
    "if prediction[0] > 0.5:\n",
    "    print(\"Prediction: Pneumonia\")\n",
    "else:\n",
    "    print(\"Prediction: Normal\")\n"
   ]
  }
 ],
 "metadata": {
  "kernelspec": {
   "display_name": "venv",
   "language": "python",
   "name": "python3"
  },
  "language_info": {
   "codemirror_mode": {
    "name": "ipython",
    "version": 3
   },
   "file_extension": ".py",
   "mimetype": "text/x-python",
   "name": "python",
   "nbconvert_exporter": "python",
   "pygments_lexer": "ipython3",
   "version": "3.11.9"
  }
 },
 "nbformat": 4,
 "nbformat_minor": 2
}
